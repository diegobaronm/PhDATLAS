{
 "cells": [
  {
   "cell_type": "code",
   "execution_count": 3,
   "metadata": {},
   "outputs": [],
   "source": [
    "import ROOT\n",
    "from ROOT import gStyle\n",
    "import numpy as np"
   ]
  },
  {
   "cell_type": "code",
   "execution_count": 6,
   "metadata": {},
   "outputs": [],
   "source": [
    "#CALCULATION OF RQCD\n",
    "\n",
    "MC_CR_OS=ROOT.TFile.Open(\"CR_OS/MC.root\",\"READ\")\n",
    "Data_CR_OS = ROOT.TFile.Open(\"CR_OS/Data.root\",\"READ\")\n",
    "MC_CR_SS=ROOT.TFile.Open(\"CR_SS/MC.root\",\"READ\")\n",
    "Data_CR_SS = ROOT.TFile.Open(\"CR_SS/Data.root\",\"READ\")\n",
    "\n",
    "histo=\"tau_pt_jetn_btag_iso_iso2_bdt_tmass_omega_mreco_outside\"\n",
    "\n",
    "mc_cr_os=MC_CR_OS.Get(histo)\n",
    "data_cr_os=Data_CR_OS.Get(histo)\n",
    "mc_cr_ss=MC_CR_SS.Get(histo)\n",
    "data_cr_ss=Data_CR_SS.Get(histo)\n",
    "\n",
    "mc_cr_os.SetDirectory(0)\n",
    "data_cr_os.SetDirectory(0)\n",
    "mc_cr_ss.SetDirectory(0)\n",
    "data_cr_ss.SetDirectory(0)\n",
    "\n",
    "MC_CR_OS.Close()\n",
    "Data_CR_OS.Close()\n",
    "MC_CR_SS.Close()\n",
    "Data_CR_SS.Close()\n",
    "\n",
    "data_cr_os.Add(mc_cr_os,-1)\n",
    "data_cr_ss.Add(mc_cr_ss,-1)\n",
    "\n",
    "RQCD=data_cr_os.Integral()/data_cr_ss.Integral()\n",
    "\n",
    "# HISTOGRAM FOR SR_OS\n",
    "\n",
    "MC_SR_OS=ROOT.TFile.Open(\"SR_OS/MC.root\",\"READ\")\n",
    "Data_SR_OS = ROOT.TFile.Open(\"SR_OS/Data.root\",\"READ\")\n",
    "MC_SR_SS=ROOT.TFile.Open(\"SR_SS/MC.root\",\"READ\")\n",
    "Data_SR_SS = ROOT.TFile.Open(\"SR_SS/Data.root\",\"READ\")\n",
    "\n",
    "mc_sr_os=MC_SR_OS.Get(histo)\n",
    "data_sr_os=Data_SR_OS.Get(histo)\n",
    "mc_sr_ss=MC_SR_SS.Get(histo)\n",
    "data_sr_ss=Data_SR_SS.Get(histo)\n",
    "\n",
    "mc_sr_os.SetDirectory(0)\n",
    "data_sr_os.SetDirectory(0)\n",
    "mc_sr_ss.SetDirectory(0)\n",
    "data_sr_ss.SetDirectory(0)\n",
    "\n",
    "MC_SR_OS.Close()\n",
    "Data_SR_OS.Close()\n",
    "MC_SR_SS.Close()\n",
    "Data_SR_SS.Close()\n",
    "\n",
    "MJ_BG=data_sr_ss.Clone()\n",
    "MJ_BG.Add(mc_sr_ss,-1)\n",
    "MJ_BG.Scale(RQCD)"
   ]
  },
  {
   "cell_type": "code",
   "execution_count": 20,
   "metadata": {},
   "outputs": [],
   "source": [
    "\n",
    "#'''\n",
    "ob=200\n",
    "s=0\n",
    "e=14e4\n",
    "n=7\n",
    "nb=int(ob/n)\n",
    "rebining=np.arange(s,e+n*(e-s)/ob,n*(e-s)/ob)\n",
    "MJ_BG=MJ_BG.Rebin(nb,\"MC\",rebining)\n",
    "mc_sr_os=mc_sr_os.Rebin(nb,\"MC\",rebining)\n",
    "data_sr_os=data_sr_os.Rebin(nb,\"data\",rebining)\n",
    "\n",
    "#'''\n",
    "\n",
    "hs = ROOT.THStack(\"hs\",\"\")\n",
    "hs.Add(mc_sr_os)\n",
    "hs.Add(MJ_BG)\n",
    "\n",
    "\n",
    "mc_sr_os.SetLineColor(ROOT.kRed)\n",
    "MJ_BG.SetLineColor(ROOT.kGreen)\n",
    "data_sr_os.SetLineColor(ROOT.kBlue)"
   ]
  },
  {
   "cell_type": "code",
   "execution_count": 21,
   "metadata": {},
   "outputs": [
    {
     "name": "stderr",
     "output_type": "stream",
     "text": [
      "Warning in <TCanvas::Constructor>: Deleting canvas with same name: Canvas\n",
      "Info in <TCanvas::Print>: ps file TEST_PLOT.PDF has been created\n"
     ]
    }
   ],
   "source": [
    "Canvas=ROOT.TCanvas(\"Canvas\")\n",
    "data_sr_os.Draw(\"pe\")\n",
    "hs.Draw(\"HIST same\")\n",
    "Canvas.cd()\n",
    "\n",
    "Canvas.Print(\"TEST_PLOT.PDF\")"
   ]
  },
  {
   "cell_type": "code",
   "execution_count": 23,
   "metadata": {},
   "outputs": [
    {
     "name": "stderr",
     "output_type": "stream",
     "text": [
      "Warning in <TCanvas::Constructor>: Deleting canvas with same name: Canvas2\n",
      "Info in <TCanvas::Print>: ps file MJ_BG.PDF has been created\n"
     ]
    }
   ],
   "source": [
    "Canvas=ROOT.TCanvas(\"Canvas2\")\n",
    "\n",
    "\n",
    "Canvas.cd()\n",
    "MJ_BG.Draw(\"HIST same\")\n",
    "Canvas.Print(\"MJ_BG.PDF\")"
   ]
  },
  {
   "cell_type": "code",
   "execution_count": null,
   "metadata": {},
   "outputs": [],
   "source": []
  }
 ],
 "metadata": {
  "kernelspec": {
   "display_name": "Python 3",
   "language": "python",
   "name": "python3"
  },
  "language_info": {
   "codemirror_mode": {
    "name": "ipython",
    "version": 3
   },
   "file_extension": ".py",
   "mimetype": "text/x-python",
   "name": "python",
   "nbconvert_exporter": "python",
   "pygments_lexer": "ipython3",
   "version": "3.7.3"
  }
 },
 "nbformat": 4,
 "nbformat_minor": 2
}
