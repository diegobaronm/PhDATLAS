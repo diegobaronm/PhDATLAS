{
 "cells": [
  {
   "cell_type": "code",
   "execution_count": 1,
   "metadata": {},
   "outputs": [
    {
     "name": "stdout",
     "output_type": "stream",
     "text": [
      "Welcome to JupyROOT 6.18/04\n"
     ]
    }
   ],
   "source": [
    "import ROOT\n",
    "from ROOT import gStyle\n",
    "import numpy as np"
   ]
  },
  {
   "cell_type": "code",
   "execution_count": 8,
   "metadata": {},
   "outputs": [
    {
     "name": "stderr",
     "output_type": "stream",
     "text": [
      "Warning in <TCanvas::Constructor>: Deleting canvas with same name: canvas3\n",
      "Info in <TCanvas::Print>: pdf file et0cone20_jetn_btag_iso_bdt_tmass_mreco.pdf has been created\n"
     ]
    }
   ],
   "source": [
    "MC=ROOT.TFile.Open(\"MC.root\",\"READ\")\n",
    "Data = ROOT.TFile.Open(\"Data.root\",\"READ\")\n",
    "Signal=ROOT.TFile.Open(\"Signal.root\",\"READ\")\n",
    "VV=ROOT.TFile.Open(\"VV.root\",\"READ\")\n",
    "Wjets=ROOT.TFile.Open(\"Wjets.root\",\"READ\")\n",
    "Zjets=ROOT.TFile.Open(\"Zjet.root\",\"READ\")\n",
    "Ttbar=ROOT.TFile.Open(\"ttbar.root\",\"READ\")\n",
    "SingleTop=ROOT.TFile.Open(\"singletop.root\",\"READ\")\n",
    "\n",
    "gStyle.SetOptStat(1111111)\n",
    "a=\"reco_mass_jetn_btag_iso_iso2_bdt_tmass\"\n",
    "\n",
    "mc=MC.Get(a)\n",
    "data=Data.Get(a)\n",
    "signal=Signal.Get(a)\n",
    "vv=VV.Get(a)\n",
    "w=Wjets.Get(a)\n",
    "z=Zjets.Get(a)\n",
    "tt=Ttbar.Get(a)\n",
    "t=SingleTop.Get(a)\n",
    "\n",
    "mc.SetDirectory(0)\n",
    "signal.SetDirectory(0)\n",
    "data.SetDirectory(0)\n",
    "vv.SetDirectory(0)\n",
    "w.SetDirectory(0)\n",
    "z.SetDirectory(0)\n",
    "tt.SetDirectory(0)\n",
    "t.SetDirectory(0)\n",
    "\n",
    "MC.Close()\n",
    "Signal.Close()\n",
    "Data.Close()\n",
    "VV.Close()\n",
    "Wjets.Close()\n",
    "Zjets.Close()\n",
    "Ttbar.Close()\n",
    "SingleTop.Close()\n",
    "\n",
    "hs = ROOT.THStack(\"hs\",\"\")\n",
    "\n",
    "ob=100\n",
    "s=0\n",
    "e=300e3\n",
    "rebining=np.arange(s,e+2*e/ob,2*e/ob)\n",
    "mc=mc.Rebin(50,\"signal\",rebining)\n",
    "signal=signal.Rebin(50,\"signal\",rebining)\n",
    "data=data.Rebin(50,\"data\",rebining)\n",
    "vv=vv.Rebin(50,\"vv\",rebining)\n",
    "tt=tt.Rebin(50,\"tt\",rebining)\n",
    "t=t.Rebin(50,\"t\",rebining)\n",
    "z=z.Rebin(50,\"z\",rebining)\n",
    "w=w.Rebin(50,\"w\",rebining)\n",
    "\n",
    "\n",
    "w.SetFillColor(ROOT.kGreen)\n",
    "w.SetLineColor(ROOT.kGreen)\n",
    "z.SetFillColor(ROOT.kRed)\n",
    "z.SetLineColor(ROOT.kRed)\n",
    "vv.SetFillColor(ROOT.kBlue)\n",
    "vv.SetLineColor(ROOT.kBlue)\n",
    "tt.SetFillColor(ROOT.kYellow)\n",
    "tt.SetLineColor(ROOT.kYellow)\n",
    "t.SetFillColor(ROOT.kCyan)\n",
    "t.SetLineColor(ROOT.kCyan)\n",
    "data.SetLineColor(ROOT.kBlack)\n",
    "\n",
    "\n",
    "\n",
    "hs.Add(vv)\n",
    "hs.Add(w)\n",
    "hs.Add(z)\n",
    "hs.Add(tt)\n",
    "hs.Add(t)\n",
    "hs.Add(signal)\n",
    "\n",
    "ratio=mc.Clone()\n",
    "ratio.Divide(data)\n",
    "\n",
    "gStyle.SetOptStat(1111111)\n",
    "\n",
    "canvas3 = ROOT.TCanvas(\"canvas3\")\n",
    "canvas3.cd()\n",
    "\n",
    "pad1 = ROOT . TPad (\" pad1 \",\" pad1 \" ,0 ,0.35 ,1 ,1)\n",
    "\n",
    "pad1.Draw ()\n",
    "pad1.cd ()\n",
    "\n",
    "\n",
    "\n",
    "\n",
    "data.Draw(\"pe\")\n",
    "hs.Draw(\"HIST same\")\n",
    "pad1.SetLogy()\n",
    "\n",
    "#data . GetYaxis (). SetRangeUser (0 ,40)\n",
    "#hs . GetYaxis (). SetRangeUser (0 ,40)\n",
    "legend = ROOT . TLegend (0.7 ,0.6 ,0.85 ,0.75)\n",
    "legend . AddEntry ( vv ,\"Diboson\")\n",
    "legend . AddEntry ( data ,\" Data \")\n",
    "legend . AddEntry ( signal ,\" Signal \")\n",
    "legend . AddEntry ( w ,\" W+jets \")\n",
    "legend . AddEntry ( z ,\" Z+jets \")\n",
    "legend . AddEntry ( t ,\" Single top \")\n",
    "legend . AddEntry ( tt ,\" ttbar \")\n",
    "\n",
    "legend . SetLineWidth (0)\n",
    "legend . Draw ()\n",
    "\n",
    "\n",
    "\n",
    "hs.SetTitle(a)\n",
    "\n",
    "canvas3.cd()\n",
    "pad2 = ROOT . TPad (\" pad2 \",\" pad2 \" ,0 ,0.05 ,1 ,0.25)\n",
    "pad2.Draw ()\n",
    "pad2.cd ()\n",
    "ratio.Draw (\"pe\")\n",
    "ratio.SetStats(0)\n",
    "ratio . GetYaxis (). SetRangeUser (-0.5 ,2.5)\n",
    "ratio . GetXaxis (). SetRangeUser (0 ,300e3)\n",
    "ratio . GetYaxis (). SetTitle (\"MC/DATA\")\n",
    "ratio . GetYaxis (). SetTitleSize (0.15)\n",
    "ratio . GetYaxis (). SetTitleOffset (0.25)\n",
    "line = ROOT . TLine (0 ,1 ,300e3 ,1)\n",
    "line . SetLineColor ( ROOT . kBlack )\n",
    "line . SetLineWidth (2)\n",
    "line . Draw (\" same \")\n",
    "\n",
    "\n",
    "\n",
    "\n",
    "\n",
    "\n",
    "\n",
    "\n",
    "canvas3.Print(a+\".pdf\")\n",
    "\n"
   ]
  },
  {
   "cell_type": "markdown",
   "metadata": {},
   "source": [
    "### PLOT SINGULAR PROPERTIES"
   ]
  },
  {
   "cell_type": "code",
   "execution_count": 23,
   "metadata": {},
   "outputs": [
    {
     "name": "stderr",
     "output_type": "stream",
     "text": [
      "Warning in <TCanvas::Constructor>: Deleting canvas with same name: canvas4\n",
      "Info in <TCanvas::Print>: pdf file Wjets_tau_matched.pdf has been created\n"
     ]
    }
   ],
   "source": [
    "\n",
    "File=\"Wjets.root\"\n",
    "histo=\"tau_matched\"\n",
    "\n",
    "Signal=ROOT.TFile.Open(File,\"READ\")\n",
    "signal=Signal.Get(histo)\n",
    "canvas4=ROOT.TCanvas(\"canvas4\")\n",
    "canvas4.cd()\n",
    "#signal=signal.Rebin(50,\"signal\",rebining)\n",
    "signal.Draw(\"HIST\")\n",
    "signal.SetFillColor(ROOT.kGreen)\n",
    "signal.SetLineColor(ROOT.kGreen)\n",
    "signal.SetTitle(histo)\n",
    "\n",
    "legend = ROOT.TLegend (0.5 ,0.5 ,0.85 ,0.55)\n",
    "legend.AddEntry ( signal ,File[:-5])\n",
    "legend.Draw(\"same\")\n",
    "\n",
    "canvas4.Print(File[:-5]+\"_\"+histo+\".pdf\")"
   ]
  },
  {
   "cell_type": "markdown",
   "metadata": {},
   "source": [
    "### PLOTTING BDT SCORE"
   ]
  },
  {
   "cell_type": "code",
   "execution_count": 15,
   "metadata": {},
   "outputs": [
    {
     "name": "stderr",
     "output_type": "stream",
     "text": [
      "Warning in <TCanvas::Constructor>: Deleting canvas with same name: canvas5\n",
      "Info in <TCanvas::Print>: pdf file BDT_score.pdf has been created\n"
     ]
    }
   ],
   "source": [
    "canvas5=ROOT.TCanvas(\"canvas5\")\n",
    "canvas5.cd()\n",
    "w.Draw(\"HIST\")\n",
    "z.Draw(\"HIST,same\")\n",
    "vv.Draw(\"HIST,same\")\n",
    "tt.Draw(\"HIST,same\")\n",
    "t.Draw(\"HIST,same\")\n",
    "signal.Draw(\"HIST,same\")\n",
    "\n",
    "\n",
    "w.SetLineColor(ROOT.kGreen)\n",
    "\n",
    "z.SetLineColor(ROOT.kRed)\n",
    "\n",
    "vv.SetLineColor(ROOT.kBlue)\n",
    "\n",
    "tt.SetLineColor(ROOT.kYellow)\n",
    "\n",
    "t.SetLineColor(ROOT.kCyan)\n",
    "\n",
    "legend.Draw()\n",
    "\n",
    "canvas5.SetLogy()\n",
    "\n",
    "canvas5.Print(\"BDT_score.pdf\")\n",
    "\n"
   ]
  },
  {
   "cell_type": "code",
   "execution_count": 15,
   "metadata": {},
   "outputs": [
    {
     "data": {
      "text/plain": [
       "array([     0.,   1400.,   2800.,   4200.,   5600.,   7000.,   8400.,\n",
       "         9800.,  11200.,  12600.,  14000.,  15400.,  16800.,  18200.,\n",
       "        19600.,  21000.,  22400.,  23800.,  25200.,  26600.,  28000.,\n",
       "        29400.,  30800.,  32200.,  33600.,  35000.,  36400.,  37800.,\n",
       "        39200.,  40600.,  42000.,  43400.,  44800.,  46200.,  47600.,\n",
       "        49000.,  50400.,  51800.,  53200.,  54600.,  56000.,  57400.,\n",
       "        58800.,  60200.,  61600.,  63000.,  64400.,  65800.,  67200.,\n",
       "        68600.,  70000.,  71400.,  72800.,  74200.,  75600.,  77000.,\n",
       "        78400.,  79800.,  81200.,  82600.,  84000.,  85400.,  86800.,\n",
       "        88200.,  89600.,  91000.,  92400.,  93800.,  95200.,  96600.,\n",
       "        98000.,  99400., 100800., 102200., 103600., 105000., 106400.,\n",
       "       107800., 109200., 110600., 112000., 113400., 114800., 116200.,\n",
       "       117600., 119000., 120400., 121800., 123200., 124600., 126000.,\n",
       "       127400., 128800., 130200., 131600., 133000., 134400., 135800.,\n",
       "       137200., 138600., 140000.])"
      ]
     },
     "execution_count": 15,
     "metadata": {},
     "output_type": "execute_result"
    }
   ],
   "source": [
    "rebining"
   ]
  },
  {
   "cell_type": "code",
   "execution_count": null,
   "metadata": {},
   "outputs": [],
   "source": []
  }
 ],
 "metadata": {
  "kernelspec": {
   "display_name": "Python 3",
   "language": "python",
   "name": "python3"
  },
  "language_info": {
   "codemirror_mode": {
    "name": "ipython",
    "version": 3
   },
   "file_extension": ".py",
   "mimetype": "text/x-python",
   "name": "python",
   "nbconvert_exporter": "python",
   "pygments_lexer": "ipython3",
   "version": "3.7.3"
  }
 },
 "nbformat": 4,
 "nbformat_minor": 2
}
