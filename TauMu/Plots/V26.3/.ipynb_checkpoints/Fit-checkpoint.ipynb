{
 "cells": [
  {
   "cell_type": "code",
   "execution_count": 3,
   "metadata": {},
   "outputs": [
    {
     "name": "stdout",
     "output_type": "stream",
     "text": [
      "['Zjet.root', 'Wjets.root', 'singletop.root', 'Signal_Sherpa.root', 'Signal_PoPy.root', 'ttbar.root', 'Data.root', 'BG.root', 'VV.root', 'MC.root']\n"
     ]
    }
   ],
   "source": [
    "import ROOT \n",
    "from ROOT import gStyle\n",
    "import numpy as np\n",
    "import ctypes\n",
    "import array\n",
    "import os\n",
    "from IPython.display import display \n",
    "import pandas as pd \n",
    "\n",
    "samples=os.listdir(\"SR_OS\")\n",
    "print(samples)\n",
    "if \"MJ.root\" in samples:\n",
    "    os.system(\"rm SR_OS/MJ.root\")\n",
    "\n",
    "def biner(o_bin,m_bin,f_bin,f_step,l_step):\n",
    "    a=np.arange(o_bin,m_bin,f_step)\n",
    "    b=np.arange(m_bin,f_bin+l_step,l_step)\n",
    "    return np.concatenate((a,b))\n",
    "\n",
    "def normalization(hist_list):\n",
    "    for hist in hist_list:\n",
    "        for i in range(0,len(rebining)):\n",
    "            value=hist.GetBinContent(i)\n",
    "            error=hist.GetBinError(i)\n",
    "            sf=hist.GetBinWidth(i)/5.0    \n",
    "            hist.SetBinContent(i,value/sf)\n",
    "            hist.SetBinError(i,error/sf)  "
   ]
  },
  {
   "cell_type": "code",
   "execution_count": 20,
   "metadata": {},
   "outputs": [
    {
     "name": "stdout",
     "output_type": "stream",
     "text": [
      " FCN=122.655 FROM MIGRAD    STATUS=CONVERGED      80 CALLS          81 TOTAL\n",
      "                     EDM=4.52105e-09    STRATEGY= 1      ERROR MATRIX ACCURATE \n",
      "  EXT PARAMETER                                   STEP         FIRST   \n",
      "  NO.   NAME      VALUE            ERROR          SIZE      DERIVATIVE \n",
      "   1  Constant     9.10175e+02   2.45814e+01   1.00430e-01  -1.24670e-06\n",
      "   2  Mean         9.19803e+01   2.39917e-01   1.26691e-03  -3.89449e-04\n",
      "   3  Sigma        1.14484e+01   2.03774e-01   2.00970e-05   3.90344e-03\n"
     ]
    },
    {
     "data": {
      "image/png": "[encoded data removed]",
      "text/plain": [
       "<IPython.core.display.Image object>"
      ]
     },
     "metadata": {},
     "output_type": "display_data"
    }
   ],
   "source": [
    "f=ROOT.TFile.Open(\"SR_OS/Signal_PoPy.root\",\"READ\")\n",
    "histo=f.Get(\"reco_mass_met_outside_topo_dphi_btag_iso_rnn_ptmu_omega_tpt\")\n",
    "histo.SetDirectory(0)\n",
    "f.Close()\n",
    "\n",
    "rebining=biner(0,140,300.0,5,10)\n",
    "nb=len(binning)-1\n",
    "histo=histo.Rebin(nb,\"nn\",rebining)\n",
    "normalization([histo])\n",
    "fit=histo.Fit(\"gaus\")\n",
    "\n",
    "\n",
    "c = ROOT.TCanvas()\n",
    "histo.Draw()\n",
    "c.Draw()"
   ]
  },
  {
   "cell_type": "code",
   "execution_count": null,
   "metadata": {},
   "outputs": [],
   "source": [
    "def main():\n",
    " \n",
    "    try:\n",
    "        import ROOT\n",
    "    except:\n",
    "        print(\"It seems that pyROOT isn't properly configured\")\n",
    "        return\n",
    " \n",
    "    \"\"\"\n",
    "    Create a HistFactory measurement from python\n",
    "    \"\"\"\n",
    " \n",
    "    InputFile = \"SR_OS/Signal_PoPy.root\"\n",
    " \n",
    "    # Create the measurement\n",
    "    meas = ROOT.RooStats.HistFactory.Measurement(\"meas\", \"meas\")\n",
    " \n",
    "    meas.SetOutputFilePrefix( \"./results/example_UsingPy\" )\n",
    "    meas.SetPOI( \"a\" )\n",
    "    meas.SetPOI( \"b\" )\n",
    "    #meas.AddConstantParam(\"Lumi\")\n",
    "    #meas.AddConstantParam(\"alpha_syst1\")\n",
    " \n",
    "    meas.SetLumi( 1.0 )\n",
    "    #meas.SetLumiRelErr( 0.10 )\n",
    "    #meas.SetExportOnly( False )\n",
    " \n",
    "    # Create a channel\n",
    " \n",
    "    chan = ROOT.RooStats.HistFactory.Channel( \"channel1\" )\n",
    "    chan.SetData( \"reco_mass_met_outside_topo_dphi_btag_iso_rnn_ptmu_omega_tpt\", InputFile )\n",
    "    chan.SetStatErrorConfig( 0.05, \"Poisson\" )\n",
    " \n",
    "    # Now, create some samples\n",
    " \n",
    "    # Create the signal sample\n",
    "    signal = ROOT.RooStats.HistFactory.Sample( \"signal\", \"reco_mass_met_outside_topo_dphi_btag_iso_rnn_ptmu_omega_tpt\", InputFile )\n",
    "    signal.AddOverallSys( \"syst1\",  0.95, 1.05 )\n",
    "    signal.AddNormFactor( \"a\", 1, 0, 3 )\n",
    "    chan.AddSample( signal )\n",
    " \n",
    " \n",
    "    # Background 1\n",
    "    background1 = ROOT.RooStats.HistFactory.Sample( \"background1\", \"background1\", InputFile )\n",
    "    background1.ActivateStatError( \"background1_statUncert\", InputFile )\n",
    "    background1.AddOverallSys( \"syst2\", 0.95, 1.05  )\n",
    "    chan.AddSample( background1 )\n",
    " \n",
    " \n",
    "    # Background 1\n",
    "    #background2 = ROOT.RooStats.HistFactory.Sample( \"background2\", \"background2\", InputFile )\n",
    "    #background2.ActivateStatError()\n",
    "    #background2.AddOverallSys( \"syst3\", 0.95, 1.05  )\n",
    "    #chan.AddSample( background2 )\n",
    " \n",
    " \n",
    "    # Done with this channel\n",
    "    # Add it to the measurement:\n",
    " \n",
    "    meas.AddChannel( chan )\n",
    " \n",
    "    # Collect the histograms from their files,\n",
    "    # print some output, \n",
    "    meas.CollectHistograms()\n",
    "    meas.PrintTree();\n",
    " \n",
    "    # One can print XML code to an\n",
    "    # output directory:\n",
    "    # meas.PrintXML( \"xmlFromCCode\", meas.GetOutputFilePrefix() );\n",
    " \n",
    "    meas.PrintXML( \"xmlFromPy\", meas.GetOutputFilePrefix() );\n",
    " \n",
    "    # Now, do the measurement\n",
    "    ROOT.RooStats.HistFactory.MakeModelAndMeasurementFast( meas );\n",
    " \n",
    "    pass\n",
    " \n",
    " \n",
    "if __name__ == \"__main__\":\n",
    "    main()"
   ]
  }
 ],
 "metadata": {
  "kernelspec": {
   "display_name": "Python 3",
   "language": "python",
   "name": "python3"
  },
  "language_info": {
   "codemirror_mode": {
    "name": "ipython",
    "version": 3
   },
   "file_extension": ".py",
   "mimetype": "text/x-python",
   "name": "python",
   "nbconvert_exporter": "python",
   "pygments_lexer": "ipython3",
   "version": "3.8.10"
  }
 },
 "nbformat": 4,
 "nbformat_minor": 4
}
