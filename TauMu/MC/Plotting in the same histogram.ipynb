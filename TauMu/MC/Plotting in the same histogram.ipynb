{
 "cells": [
  {
   "cell_type": "markdown",
   "metadata": {},
   "source": [
    "### DATA VS BG"
   ]
  },
  {
   "cell_type": "code",
   "execution_count": 8,
   "metadata": {},
   "outputs": [],
   "source": [
    "import ROOT\n",
    "import numpy as np"
   ]
  },
  {
   "cell_type": "code",
   "execution_count": 9,
   "metadata": {},
   "outputs": [],
   "source": [
    "MC = ROOT.TFile.Open(\"out/MC.root\",\" READ \")\n",
    "Data = ROOT.TFile.Open(\"out/Data.root\",\"READ\")\n",
    "BG = ROOT.TFile.Open(\"out/BG.root\",\"READ\")"
   ]
  },
  {
   "cell_type": "code",
   "execution_count": 10,
   "metadata": {},
   "outputs": [
    {
     "name": "stderr",
     "output_type": "stream",
     "text": [
      "Warning in <TH1F::Rebin>: overflow entries will not be used when rebinning\n",
      "Warning in <TH1F::Rebin>: overflow entries will not be used when rebinning\n"
     ]
    }
   ],
   "source": [
    "bg=BG.Get(\"inva_mass\")\n",
    "mc=MC.Get(\"inva_mass\")\n",
    "data=Data.Get(\"inva_mass\")\n",
    "rebining=np.arrange([ 70000.,  73000.,  76000.,  79000.,  82000.,  85000.,  88000.,\n",
    "        91000.,  94000.,  97000., 100000., 103000., 106000., 109000.,\n",
    "       112000., 115000., 118000., 121000., 124000., 127000., 130000.,\n",
    "       133000., 136000., 139000., 142000., 145000., 148000., 151000.,\n",
    "       154000., 157000., 160000., 163000., 166000., 169000., 172000.,\n",
    "       175000., 178000., 181000., 184000., 187000.,190000., 196000., 202000., 208000., 214000., 220000., 226000.,\n",
    "       232000., 238000., 244000., 250000., 256000., 262000., 268000.,\n",
    "       274000., 280000., 286000., 292000., 298000., 304000.])\n",
    "mc=mc.Rebin(59,\"mc\",rebining)\n",
    "bg=bg.Rebin(59,\"bg\",rebining)\n",
    "data=data.Rebin(59,\"data\",rebining)\n",
    "ratio=mc.Clone()\n",
    "ratio.Divide(data)\n",
    "mc.SetDirectory(0)\n",
    "data.SetDirectory(0)\n",
    "ratio.SetDirectory(0)\n",
    "bg.SetDirectory(0)\n",
    "MC.Close()\n",
    "Data.Close()\n",
    "BG.Close()"
   ]
  },
  {
   "cell_type": "code",
   "execution_count": 11,
   "metadata": {},
   "outputs": [
    {
     "name": "stderr",
     "output_type": "stream",
     "text": [
      "Warning in <TCanvas::Constructor>: Deleting canvas with same name:  canvas\n",
      "Info in <TCanvas::Print>: pdf file DataVsBG+Ncuts.pdf has been created\n"
     ]
    }
   ],
   "source": [
    "canvas = ROOT . TCanvas (\" canvas\")\n",
    "data.Draw (\"pe\")\n",
    "bg.Draw(\"HIST,same\")\n",
    "bg.SetLineColor( ROOT . kRed )\n",
    "data . GetXaxis (). SetRangeUser (100e3,300e3)\n",
    "bg . GetXaxis (). SetRangeUser (100e3,300e3)\n",
    "\n",
    "legend = ROOT . TLegend (0.7 ,0.6 ,0.85 ,0.75)\n",
    "legend . AddEntry ( bg ,\"BG\")\n",
    "legend . AddEntry ( data ,\" Data \")\n",
    "legend . SetLineWidth (0)\n",
    "legend . Draw (\" same \")\n",
    "\n",
    "data.SetTitle(\"Data Vs BG + Ncuts\")\n",
    "\n",
    "\n",
    "\n",
    "canvas.cd()\n",
    "\n",
    "canvas.Print(\"DataVsBG+Ncuts.pdf\")"
   ]
  },
  {
   "cell_type": "markdown",
   "metadata": {},
   "source": [
    "### DataVsMC and MC/Data"
   ]
  },
  {
   "cell_type": "code",
   "execution_count": 5,
   "metadata": {},
   "outputs": [
    {
     "name": "stderr",
     "output_type": "stream",
     "text": [
      "Info in <TCanvas::Print>: pdf file DataVsMC+Ratio+Ncuts.pdf has been created\n"
     ]
    }
   ],
   "source": [
    "canvas2 = ROOT . TCanvas (\" canvas2 \")\n",
    "canvas2.cd()\n",
    "pad1 = ROOT . TPad (\" pad1 \",\" pad1 \" ,0 ,0.35 ,1 ,1)\n",
    "pad1.Draw ()\n",
    "pad1.cd ()\n",
    "mc.Draw(\"HIST\")\n",
    "data.Draw(\"pe,same\")\n",
    "mc.SetLineColor(ROOT.kRed)\n",
    "pad1 . SetBottomMargin (1)\n",
    "data . GetXaxis (). SetRangeUser (100e3,300e3)\n",
    "mc . GetXaxis (). SetRangeUser (100e3,300e3)\n",
    "data . GetYaxis (). SetRangeUser (0,25)\n",
    "mc . GetYaxis (). SetRangeUser (0,25)\n",
    "\n",
    "legend = ROOT . TLegend (0.7 ,0.6 ,0.85 ,0.75)\n",
    "legend . AddEntry ( mc ,\"MC\")\n",
    "legend . AddEntry ( data ,\" Data \")\n",
    "legend . SetLineWidth (0)\n",
    "legend . Draw (\" same \")\n",
    "\n",
    "data.SetTitle(\"Data Vs MC + MC/Data + Ncuts\")\n",
    "\n",
    "canvas2.cd()\n",
    "pad2 = ROOT . TPad (\" pad2 \",\" pad2 \" ,0 ,0.05 ,1 ,0.25)\n",
    "pad2.Draw ()\n",
    "pad2.cd ()\n",
    "ratio.Draw (\"pe\")\n",
    "ratio.SetStats(0)\n",
    "ratio . GetYaxis (). SetRangeUser (-1 ,2.5)\n",
    "ratio . GetXaxis (). SetRangeUser (100e3 ,300e3)\n",
    "ratio . GetYaxis (). SetTitle (\"MC/DATA\")\n",
    "ratio . GetYaxis (). SetTitleSize (0.15)\n",
    "ratio . GetYaxis (). SetTitleOffset (0.25)\n",
    "line = ROOT . TLine (100e3 ,1 ,300e3 ,1)\n",
    "line . SetLineColor ( ROOT . kBlack )\n",
    "line . SetLineWidth (2)\n",
    "line . Draw (\" same \")\n",
    "canvas2.Print(\"DataVsMC+Ratio+Ncuts.pdf\")"
   ]
  },
  {
   "cell_type": "markdown",
   "metadata": {},
   "source": [
    "### Data - MC + Ratio"
   ]
  },
  {
   "cell_type": "code",
   "execution_count": 6,
   "metadata": {},
   "outputs": [
    {
     "name": "stderr",
     "output_type": "stream",
     "text": [
      "Info in <TCanvas::Print>: pdf file DataMinusMC+Ratio+Ncuts.pdf has been created\n"
     ]
    }
   ],
   "source": [
    "canvas3 = ROOT . TCanvas (\" canvas3 \")\n",
    "canvas3.cd()\n",
    "pad1 = ROOT . TPad (\" pad1 \",\" pad1 \" ,0 ,0.35 ,1 ,1)\n",
    "pad1.Draw ()\n",
    "pad1.cd ()\n",
    "difference=data.Clone()\n",
    "difference.Add(mc,-1.)\n",
    "difference.Draw(\"h\")\n",
    "line2=ROOT.TLine(60e3,0,300e3,0)\n",
    "line2.Draw()\n",
    "difference . GetXaxis (). SetRangeUser (100e3,300e3)\n",
    "difference.SetTitle(\"Data minus MC + Ratio+Ncuts\")\n",
    "canvas3.cd()\n",
    "pad2 = ROOT . TPad (\" pad2 \",\" pad2 \" ,0 ,0.05 ,1 ,0.25)\n",
    "pad2.Draw ()\n",
    "pad2.cd ()\n",
    "ratio.Draw (\"pe\")\n",
    "ratio.SetStats(0)\n",
    "ratio . GetYaxis (). SetRangeUser (-1 ,2.5)\n",
    "ratio . GetXaxis (). SetRangeUser (100e3 ,300e3)\n",
    "ratio . GetYaxis (). SetTitle (\"MC/DATA\")\n",
    "ratio . GetYaxis (). SetTitleSize (0.15)\n",
    "ratio . GetYaxis (). SetTitleOffset (0.25)\n",
    "line = ROOT . TLine (100e3 ,1 ,300e3 ,1)\n",
    "line . SetLineColor ( ROOT . kBlack )\n",
    "line . SetLineWidth (2)\n",
    "line . Draw (\" same \")\n",
    "canvas3.Print(\"DataMinusMC+Ratio+Ncuts.pdf\")"
   ]
  },
  {
   "cell_type": "markdown",
   "metadata": {},
   "source": [
    "### Data - BG"
   ]
  },
  {
   "cell_type": "code",
   "execution_count": 7,
   "metadata": {},
   "outputs": [
    {
     "name": "stderr",
     "output_type": "stream",
     "text": [
      "Info in <TCanvas::Print>: pdf file DataMinusBG+Ncuts.pdf has been created\n"
     ]
    }
   ],
   "source": [
    "canvas4 = ROOT . TCanvas (\" canvas4 \")\n",
    "canvas4.cd()\n",
    "\n",
    "difference2=data.Clone()\n",
    "difference2.Add(bg,-1)\n",
    "difference2.Draw(\"h\")\n",
    "difference2 . GetXaxis (). SetRangeUser (100e3,300e3)\n",
    "line3=ROOT.TLine(100e3,0,300e3,0)\n",
    "line3.Draw()\n",
    "difference2.SetTitle(\"Data Minus BG+Ncuts\")\n",
    "canvas4.Print(\"DataMinusBG+Ncuts.pdf\")"
   ]
  },
  {
   "cell_type": "markdown",
   "metadata": {},
   "source": [
    "### TEST"
   ]
  },
  {
   "cell_type": "code",
   "execution_count": 56,
   "metadata": {},
   "outputs": [
    {
     "name": "stderr",
     "output_type": "stream",
     "text": [
      "Warning in <TCanvas::Constructor>: Deleting canvas with same name:  canvas5 \n",
      "Info in <TCanvas::Print>: pdf file TEST Data vs BG.pdf has been created\n"
     ]
    }
   ],
   "source": [
    "canvas5 = ROOT . TCanvas (\" canvas5 \")\n",
    "canvas5.cd()\n",
    "\n",
    "difference3=data.Clone()\n",
    "difference3.SetDirectory(0)\n",
    "difference3.Add(bg,-1.)\n",
    "difference3.Draw(\"h\")\n",
    "difference3 . GetXaxis (). SetRangeUser (100e3,300e3)\n",
    "line4=ROOT.TLine(100e3,0,300e3,0)\n",
    "line4.Draw()\n",
    "difference3.SetTitle(\"Data Minus BG\")\n",
    "canvas5.Print(\"TEST Data vs BG.pdf\")"
   ]
  },
  {
   "cell_type": "code",
   "execution_count": null,
   "metadata": {},
   "outputs": [],
   "source": []
  },
  {
   "cell_type": "code",
   "execution_count": null,
   "metadata": {},
   "outputs": [],
   "source": []
  }
 ],
 "metadata": {
  "kernelspec": {
   "display_name": "Python 3",
   "language": "python",
   "name": "python3"
  },
  "language_info": {
   "codemirror_mode": {
    "name": "ipython",
    "version": 3
   },
   "file_extension": ".py",
   "mimetype": "text/x-python",
   "name": "python",
   "nbconvert_exporter": "python",
   "pygments_lexer": "ipython3",
   "version": "3.7.3"
  }
 },
 "nbformat": 4,
 "nbformat_minor": 2
}
