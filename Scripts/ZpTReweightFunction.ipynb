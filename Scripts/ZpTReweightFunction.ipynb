{
 "cells": [
  {
   "cell_type": "code",
   "execution_count": 17,
   "metadata": {},
   "outputs": [
    {
     "data": {
      "image/png": "[encoded data removed]",
      "text/plain": [
       "<Figure size 432x288 with 1 Axes>"
      ]
     },
     "metadata": {
      "needs_background": "light"
     },
     "output_type": "display_data"
    }
   ],
   "source": [
    "import numpy as np\n",
    "%matplotlib inline\n",
    "import matplotlib.pyplot as plt\n",
    "ZpT=np.linspace(40,900,900)\n",
    "Weight=[]\n",
    "for zpt in ZpT:\n",
    "    if (zpt>=40 and zpt<80):\n",
    "        z_w=((0.93-1)/(np.log10(80)-np.log10(40)))*(np.log10(zpt)-np.log10(40))+1\n",
    "        Weight.append(z_w)\n",
    "    if (zpt>=80 and zpt<151):\n",
    "        z_w=((0.8-0.93)/(np.log10(151)-np.log10(80)))*(np.log10(zpt)-np.log10(80))+0.93\n",
    "        Weight.append(z_w)\n",
    "    if (zpt>=151):\n",
    "        z_w=0.80\n",
    "        Weight.append(z_w)\n",
    "Weight=np.array(Weight)\n",
    "x=np.array([46,48,51,54,58,60,65,70,75,80,85,95,108,130,151])\n",
    "y=np.array([0.99,0.983,0.974,0.978,0.969,0.95,0.949,0.942,0.937,0.92,0.9,0.891,0.863,0.84,0.8])\n",
    "        \n",
    "\n",
    "plt.plot(ZpT,1/Weight)\n",
    "plt.plot(x,1/y)\n",
    "plt.xscale('log')\n",
    "plt.show()"
   ]
  },
  {
   "cell_type": "code",
   "execution_count": null,
   "metadata": {},
   "outputs": [],
   "source": []
  }
 ],
 "metadata": {
  "kernelspec": {
   "display_name": "Python 3",
   "language": "python",
   "name": "python3"
  },
  "language_info": {
   "codemirror_mode": {
    "name": "ipython",
    "version": 3
   },
   "file_extension": ".py",
   "mimetype": "text/x-python",
   "name": "python",
   "nbconvert_exporter": "python",
   "pygments_lexer": "ipython3",
   "version": "3.8.5"
  }
 },
 "nbformat": 4,
 "nbformat_minor": 4
}
